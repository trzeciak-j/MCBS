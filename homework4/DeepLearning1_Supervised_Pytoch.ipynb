{
  "nbformat": 4,
  "nbformat_minor": 0,
  "metadata": {
    "colab": {
      "provenance": []
    },
    "kernelspec": {
      "name": "python3",
      "display_name": "Python 3"
    },
    "language_info": {
      "name": "python"
    }
  },
  "cells": [
    {
      "cell_type": "markdown",
      "source": [
        "# HOMEWORK 1\n",
        "\n",
        "1. Use exactly the same architectures (both densely connected layers and from convolutional layers) as the above MNIST e.g., replace the dataset. Save the Jupyter Notebook in its original format and output a PDF file after training, testing, and validation. Make sure to write down how do they perform (training accuracny, testing accuracy)."
      ],
      "metadata": {
        "id": "pdzVH_YbRrCC"
      }
    },
    {
      "cell_type": "code",
      "source": [
        "import numpy as np\n",
        "import torch\n",
        "import torch.nn as nn\n",
        "import torch.optim as optim\n",
        "\n",
        "# PyTorch TensorBoard support\n",
        "# from torch.utils.tensorboard import SummaryWriter\n",
        "# import torchvision\n",
        "# import torchvision.transforms as transforms\n",
        "\n",
        "from datetime import datetime\n",
        "\n",
        "import torchvision\n",
        "import torchvision.transforms as transforms\n",
        "\n",
        "from torchvision.datasets import FashionMNIST\n",
        "import matplotlib.pyplot as plt\n",
        "%matplotlib inline\n",
        "\n",
        "from torch.utils.data import random_split\n",
        "from torch.utils.data import DataLoader\n",
        "import torch.nn.functional as F\n",
        "\n",
        "from PIL import Image\n",
        "#import torchvision.transforms as T"
      ],
      "metadata": {
        "id": "ShUwZLpocGtD"
      },
      "execution_count": 3,
      "outputs": []
    },
    {
      "cell_type": "code",
      "source": [
        "mnist_dataset = FashionMNIST(root = 'data/', download=True, train = True, transform = transforms.ToTensor())\n",
        "print(mnist_dataset)"
      ],
      "metadata": {
        "colab": {
          "base_uri": "https://localhost:8080/",
          "height": 0
        },
        "id": "KMjVuaegbEsL",
        "outputId": "1807b42c-3291-43dc-d67c-d8798498c812"
      },
      "execution_count": 4,
      "outputs": [
        {
          "output_type": "stream",
          "name": "stderr",
          "text": [
            "100%|██████████| 26.4M/26.4M [00:01<00:00, 18.5MB/s]\n",
            "100%|██████████| 29.5k/29.5k [00:00<00:00, 304kB/s]\n",
            "100%|██████████| 4.42M/4.42M [00:00<00:00, 5.55MB/s]\n",
            "100%|██████████| 5.15k/5.15k [00:00<00:00, 11.9MB/s]"
          ]
        },
        {
          "output_type": "stream",
          "name": "stdout",
          "text": [
            "Dataset FashionMNIST\n",
            "    Number of datapoints: 60000\n",
            "    Root location: data/\n",
            "    Split: Train\n",
            "    StandardTransform\n",
            "Transform: ToTensor()\n"
          ]
        },
        {
          "output_type": "stream",
          "name": "stderr",
          "text": [
            "\n"
          ]
        }
      ]
    },
    {
      "cell_type": "code",
      "source": [
        "# mnist_dataset has 'images as tensors' so that they can't be displayed directly\n",
        "sampleTensor, label = mnist_dataset[10]\n",
        "print(sampleTensor.shape, label)\n",
        "tpil = transforms.ToPILImage() # using the __call__ to\n",
        "image = tpil(sampleTensor)\n",
        "image.show()"
      ],
      "metadata": {
        "colab": {
          "base_uri": "https://localhost:8080/",
          "height": 0
        },
        "id": "7Der1DOebbK-",
        "outputId": "c91c1570-5e61-4eb9-c526-75d6ea9123c9"
      },
      "execution_count": 5,
      "outputs": [
        {
          "output_type": "stream",
          "name": "stdout",
          "text": [
            "torch.Size([1, 28, 28]) 0\n"
          ]
        }
      ]
    },
    {
      "cell_type": "code",
      "source": [
        "# Print multiple images at once\n",
        "figure = plt.figure(figsize=(10, 8))\n",
        "cols, rows = 5, 5\n",
        "for i in range(1, cols * rows + 1):\n",
        "    sample_idx = torch.randint(len(mnist_dataset), size=(1,)).item()\n",
        "    img, label = mnist_dataset[sample_idx]\n",
        "    figure.add_subplot(rows, cols, i)\n",
        "    plt.title(label)\n",
        "    plt.axis(\"off\")\n",
        "    plt.imshow(img.squeeze(), cmap=\"gray\")\n",
        "plt.show()"
      ],
      "metadata": {
        "colab": {
          "base_uri": "https://localhost:8080/",
          "height": 675
        },
        "id": "3VdCUYwUbnLz",
        "outputId": "cfb4de9f-65b2-4eff-e77b-e89247882776"
      },
      "execution_count": 6,
      "outputs": [
        {
          "output_type": "display_data",
          "data": {
            "text/plain": [
              "<Figure size 1000x800 with 25 Axes>"
            ],
            "image/png": "[encoded data removed]"
          },
          "metadata": {}
        }
      ]
    },
    {
      "cell_type": "code",
      "source": [
        "train_data, validation_data = random_split(mnist_dataset, [50000, 10000])\n",
        "## Print the length of train and validation datasets\n",
        "print(\"length of Train Datasets: \", len(train_data))\n",
        "print(\"length of Validation Datasets: \", len(validation_data))\n",
        "\n",
        "batch_size = 128\n",
        "train_loader = DataLoader(train_data, batch_size, shuffle = True)\n",
        "val_loader = DataLoader(validation_data, batch_size, shuffle = False)\n",
        "## MNIST data from pytorch already provides held-out test set!"
      ],
      "metadata": {
        "colab": {
          "base_uri": "https://localhost:8080/",
          "height": 0
        },
        "id": "1qTLfu3hbyeV",
        "outputId": "30f07442-2c97-42c1-c53f-d4d44b256751"
      },
      "execution_count": 7,
      "outputs": [
        {
          "output_type": "stream",
          "name": "stdout",
          "text": [
            "length of Train Datasets:  50000\n",
            "length of Validation Datasets:  10000\n"
          ]
        }
      ]
    },
    {
      "cell_type": "markdown",
      "source": [
        "## Densely Connected Layers"
      ],
      "metadata": {
        "id": "ffEry_ZXfoj1"
      }
    },
    {
      "cell_type": "code",
      "source": [
        "## Basic set up for a logistic regression model (won't be used in practice or for training)\n",
        "input_size = 28 * 28\n",
        "num_classes = 10\n",
        "\n",
        "def accuracy(outputs, labels):\n",
        "    _, preds = torch.max(outputs, dim = 1)\n",
        "    return(torch.tensor(torch.sum(preds == labels).item()/ len(preds)))\n",
        "\n",
        "class MnistModel(nn.Module):\n",
        "    def __init__(self):\n",
        "        super().__init__()\n",
        "        self.linear = nn.Linear(input_size, num_classes)\n",
        "\n",
        "    def forward(self, xb):\n",
        "        xb = xb.reshape(-1, 784)\n",
        "        out = self.linear(xb)\n",
        "        return(out)\n",
        "\n",
        "    # We add extra methods\n",
        "    def training_step(self, batch):\n",
        "        # when training, we compute the cross entropy, which help us update weights\n",
        "        images, labels = batch\n",
        "        out = self(images) ## Generate predictions\n",
        "        loss = F.cross_entropy(out, labels) ## Calculate the loss\n",
        "        return(loss)\n",
        "\n",
        "    def validation_step(self, batch):\n",
        "        images, labels = batch\n",
        "        out = self(images) ## Generate predictions\n",
        "        loss = F.cross_entropy(out, labels) ## Calculate the loss\n",
        "        # in validation, we want to also look at the accuracy\n",
        "        # idealy, we would like to save the model when the accuracy is the highest.\n",
        "        acc = accuracy(out, labels) ## calculate metrics/accuracy\n",
        "        return({'val_loss':loss, 'val_acc': acc})\n",
        "\n",
        "    def validation_epoch_end(self, outputs):\n",
        "        # at the end of epoch (after running through all the batches)\n",
        "        batch_losses = [x['val_loss'] for x in outputs]\n",
        "        epoch_loss = torch.stack(batch_losses).mean()\n",
        "        batch_accs = [x['val_acc'] for x in outputs]\n",
        "        epoch_acc = torch.stack(batch_accs).mean()\n",
        "        return({'val_loss': epoch_loss.item(), 'val_acc' : epoch_acc.item()})\n",
        "\n",
        "    def epoch_end(self, epoch,result):\n",
        "        # log epoch, loss, metrics\n",
        "        print(\"Epoch [{}], val_loss: {:.4f}, val_acc: {:.4f}\".format(epoch, result['val_loss'], result['val_acc']))\n",
        "\n",
        "# we instantiate the model\n",
        "model = MnistModel()\n",
        "\n",
        "# a simple helper function to evaluate\n",
        "def evaluate(model, data_loader):\n",
        "    # for batch in data_loader, run validation_step\n",
        "    outputs = [model.validation_step(batch) for batch in data_loader]\n",
        "    return(model.validation_epoch_end(outputs))\n",
        "\n",
        "# actually training\n",
        "def fit(epochs, lr, model, train_loader, val_loader, opt_func = torch.optim.SGD):\n",
        "    history = []\n",
        "    optimizer = opt_func(model.parameters(), lr)\n",
        "    for epoch in range(epochs):\n",
        "        ## Training Phase\n",
        "        for batch in train_loader:\n",
        "            loss = model.training_step(batch)\n",
        "            loss.backward() ## backpropagation starts at the loss and goes through all layers to model inputs\n",
        "            optimizer.step() ## the optimizer iterate over all parameters (tensors); use their stored grad to update their values\n",
        "            optimizer.zero_grad() ## reset gradients\n",
        "\n",
        "        ## Validation phase\n",
        "        result = evaluate(model, val_loader)\n",
        "        model.epoch_end(epoch, result)\n",
        "        history.append(result)\n",
        "    return(history)"
      ],
      "metadata": {
        "id": "TAU70-a5cFV4"
      },
      "execution_count": 8,
      "outputs": []
    },
    {
      "cell_type": "code",
      "source": [
        "result0 = evaluate(model, val_loader)\n",
        "history1 = fit(10, 0.001, model, train_loader, val_loader)"
      ],
      "metadata": {
        "colab": {
          "base_uri": "https://localhost:8080/",
          "height": 0
        },
        "id": "8k7rz9F5cxzx",
        "outputId": "02ee3ea6-d406-4b80-bbc0-5a3d1ec9798f"
      },
      "execution_count": 9,
      "outputs": [
        {
          "output_type": "stream",
          "name": "stdout",
          "text": [
            "Epoch [0], val_loss: 1.7071, val_acc: 0.6139\n",
            "Epoch [1], val_loss: 1.4182, val_acc: 0.6486\n",
            "Epoch [2], val_loss: 1.2508, val_acc: 0.6602\n",
            "Epoch [3], val_loss: 1.1428, val_acc: 0.6687\n",
            "Epoch [4], val_loss: 1.0673, val_acc: 0.6766\n",
            "Epoch [5], val_loss: 1.0112, val_acc: 0.6865\n",
            "Epoch [6], val_loss: 0.9675, val_acc: 0.6997\n",
            "Epoch [7], val_loss: 0.9319, val_acc: 0.7086\n",
            "Epoch [8], val_loss: 0.9027, val_acc: 0.7176\n",
            "Epoch [9], val_loss: 0.8783, val_acc: 0.7234\n"
          ]
        }
      ]
    },
    {
      "cell_type": "code",
      "source": [
        "history = [result0] + history1\n",
        "accuracies = [result['val_acc'] for result in history]\n",
        "plt.plot(accuracies, '-x')\n",
        "plt.xlabel('epoch')\n",
        "plt.ylabel('accuracy')\n",
        "plt.title('Accuracy over epochs')"
      ],
      "metadata": {
        "colab": {
          "base_uri": "https://localhost:8080/",
          "height": 489
        },
        "id": "VhAN3xXidYwr",
        "outputId": "33034294-6586-44c6-bf28-90eaab3fa875"
      },
      "execution_count": 10,
      "outputs": [
        {
          "output_type": "execute_result",
          "data": {
            "text/plain": [
              "Text(0.5, 1.0, 'Accuracy over epochs')"
            ]
          },
          "metadata": {},
          "execution_count": 10
        },
        {
          "output_type": "display_data",
          "data": {
            "text/plain": [
              "<Figure size 640x480 with 1 Axes>"
            ],
            "image/png": "[encoded data removed]"
          },
          "metadata": {}
        }
      ]
    },
    {
      "cell_type": "code",
      "source": [
        "history = [result0] + history1\n",
        "losses = [result['val_loss'] for result in history]\n",
        "plt.plot(losses, '-x')\n",
        "plt.xlabel('epoch')\n",
        "plt.ylabel('losses')\n",
        "plt.title('Losses  over epochs')"
      ],
      "metadata": {
        "colab": {
          "base_uri": "https://localhost:8080/",
          "height": 489
        },
        "id": "1RSVI4EVeF_g",
        "outputId": "f4cf862a-ee60-4ba0-cb65-4ee3eb4ee4a0"
      },
      "execution_count": 11,
      "outputs": [
        {
          "output_type": "execute_result",
          "data": {
            "text/plain": [
              "Text(0.5, 1.0, 'Losses  over epochs')"
            ]
          },
          "metadata": {},
          "execution_count": 11
        },
        {
          "output_type": "display_data",
          "data": {
            "text/plain": [
              "<Figure size 640x480 with 1 Axes>"
            ],
            "image/png": "[encoded data removed]"
          },
          "metadata": {}
        }
      ]
    },
    {
      "cell_type": "code",
      "source": [
        "test_dataset = FashionMNIST(root = 'data/', train = False, transform = transforms.ToTensor())\n",
        "print(\"Length of Test Datasets: \", len(test_dataset))"
      ],
      "metadata": {
        "colab": {
          "base_uri": "https://localhost:8080/",
          "height": 0
        },
        "id": "SYGFaaJ_eLf6",
        "outputId": "bd6bf87c-d9f0-4ada-f057-7f1860d1843e"
      },
      "execution_count": 12,
      "outputs": [
        {
          "output_type": "stream",
          "name": "stdout",
          "text": [
            "Length of Test Datasets:  10000\n"
          ]
        }
      ]
    },
    {
      "cell_type": "code",
      "source": [
        "def predict_image(img, model):\n",
        "    xb = img.unsqueeze(0)\n",
        "    yb = model(xb)\n",
        "    _, preds = torch.max(yb, dim = 1)\n",
        "    return(preds[0].item())\n",
        "\n",
        "img, label = test_dataset[0]\n",
        "print('Label:', label, ', Predicted :', predict_image(img, model))"
      ],
      "metadata": {
        "colab": {
          "base_uri": "https://localhost:8080/",
          "height": 0
        },
        "id": "AByaMjueendG",
        "outputId": "61e23fc4-937f-462c-9e38-43460233bbc4"
      },
      "execution_count": 13,
      "outputs": [
        {
          "output_type": "stream",
          "name": "stdout",
          "text": [
            "Label: 9 , Predicted : 9\n"
          ]
        }
      ]
    },
    {
      "cell_type": "code",
      "source": [
        "test_loader = DataLoader(test_dataset, batch_size = 256, shuffle = False)\n",
        "result = evaluate(model, test_loader)\n",
        "result"
      ],
      "metadata": {
        "colab": {
          "base_uri": "https://localhost:8080/",
          "height": 0
        },
        "id": "-FT8o3dkey5c",
        "outputId": "8807c0bd-39a9-4df0-97cc-8cc34fa959b8"
      },
      "execution_count": 14,
      "outputs": [
        {
          "output_type": "execute_result",
          "data": {
            "text/plain": [
              "{'val_loss': 0.8976536989212036, 'val_acc': 0.7098633050918579}"
            ]
          },
          "metadata": {},
          "execution_count": 14
        }
      ]
    },
    {
      "cell_type": "markdown",
      "source": [
        "## Convolutional Neural Network"
      ],
      "metadata": {
        "id": "ZoSpZeKifxGe"
      }
    },
    {
      "cell_type": "code",
      "source": [
        "from torch.autograd import Variable\n",
        "\n",
        "\n",
        "# We construct a fundamental CNN class.\n",
        "class CNN(nn.Module):\n",
        "    def __init__(self):\n",
        "        super(CNN, self).__init__()\n",
        "        self.conv1 = nn.Sequential(\n",
        "            nn.Conv2d(\n",
        "                in_channels=1,\n",
        "                out_channels=16,\n",
        "                kernel_size=5,\n",
        "                stride=1,\n",
        "                padding=2,\n",
        "            ),\n",
        "            nn.ReLU(),\n",
        "            nn.MaxPool2d(kernel_size=2),\n",
        "        )\n",
        "        self.conv2 = nn.Sequential(\n",
        "            nn.Conv2d(16, 32, 5, 1, 2),\n",
        "            nn.ReLU(),\n",
        "            nn.MaxPool2d(2),\n",
        "        )\n",
        "        # fully connected layer, output 10 classes\n",
        "        self.out = nn.Linear(32 * 7 * 7, 10)\n",
        "    def forward(self, x):\n",
        "        x = self.conv1(x)\n",
        "        x = self.conv2(x)\n",
        "        # flatten the output of conv2 to (batch_size, 32 * 7 * 7)\n",
        "        x = x.view(x.size(0), -1)\n",
        "        output = self.out(x)\n",
        "        return output, x    # return x for visualization\n",
        "\n",
        "def train(num_epochs, cnn, loaders):\n",
        "    cnn.train()\n",
        "    optimizer = optim.Adam(cnn.parameters(), lr = 0.01)\n",
        "    loss_func = nn.CrossEntropyLoss()\n",
        "    # Train the model\n",
        "    total_step = len(loaders)\n",
        "\n",
        "    for epoch in range(num_epochs):\n",
        "        for i, (images, labels) in enumerate(loaders):\n",
        "\n",
        "            # gives batch data, normalize x when iterate train_loader\n",
        "            b_x = Variable(images)   # batch x\n",
        "            b_y = Variable(labels)   # batch y\n",
        "            output = cnn(b_x)[0]\n",
        "            loss = loss_func(output, b_y)\n",
        "\n",
        "            # clear gradients for this training step\n",
        "            optimizer.zero_grad()\n",
        "\n",
        "            # backpropagation, compute gradients\n",
        "            loss.backward()\n",
        "            # apply gradients\n",
        "            optimizer.step()\n",
        "\n",
        "            if (i+1) % 100 == 0:\n",
        "                print ('Epoch [{}/{}], Step [{}/{}], Loss: {:.4f}'.format(epoch + 1, num_epochs, i + 1, total_step, loss.item()))\n",
        "                pass\n",
        "        pass\n",
        "    pass\n",
        "\n",
        "cnn = CNN()\n",
        "loss_func = nn.CrossEntropyLoss()\n",
        "optimizer = optim.Adam(cnn.parameters(), lr = 0.01)"
      ],
      "metadata": {
        "id": "ybJV-yGTe6ry"
      },
      "execution_count": 15,
      "outputs": []
    },
    {
      "cell_type": "code",
      "source": [
        "# instiate the CNN model\n",
        "cnn = CNN()\n",
        "# for testing purpose, we calculate the accuracy of the initial\n",
        "cnn.eval()\n",
        "with torch.no_grad():\n",
        "    correct = 0\n",
        "    total = 0\n",
        "    for images, labels in train_loader:\n",
        "        test_output, last_layer = cnn(images)\n",
        "        pred_y = torch.max(test_output, 1)[1].data.squeeze()\n",
        "        accuracy = (pred_y == labels).sum().item() / float(labels.size(0))\n",
        "        pass\n",
        "print('Accuracy of the model on the 10000 test images: %.2f' % accuracy)"
      ],
      "metadata": {
        "colab": {
          "base_uri": "https://localhost:8080/",
          "height": 0
        },
        "id": "UQ88qN-Zf_ue",
        "outputId": "e53151f2-f1dd-49ae-deea-524750f2a0f1"
      },
      "execution_count": 16,
      "outputs": [
        {
          "output_type": "stream",
          "name": "stdout",
          "text": [
            "Accuracy of the model on the 10000 test images: 0.12\n"
          ]
        }
      ]
    },
    {
      "cell_type": "code",
      "source": [
        "train(num_epochs=5, cnn=cnn, loaders=train_loader)"
      ],
      "metadata": {
        "colab": {
          "base_uri": "https://localhost:8080/",
          "height": 0
        },
        "id": "UM0or8kKgPRl",
        "outputId": "c524253e-1b66-48d8-e013-2568a77e482f"
      },
      "execution_count": 17,
      "outputs": [
        {
          "output_type": "stream",
          "name": "stdout",
          "text": [
            "Epoch [1/5], Step [100/391], Loss: 0.6291\n",
            "Epoch [1/5], Step [200/391], Loss: 0.3726\n",
            "Epoch [1/5], Step [300/391], Loss: 0.3942\n",
            "Epoch [2/5], Step [100/391], Loss: 0.3629\n",
            "Epoch [2/5], Step [200/391], Loss: 0.2464\n",
            "Epoch [2/5], Step [300/391], Loss: 0.3419\n",
            "Epoch [3/5], Step [100/391], Loss: 0.3246\n",
            "Epoch [3/5], Step [200/391], Loss: 0.3172\n",
            "Epoch [3/5], Step [300/391], Loss: 0.2295\n",
            "Epoch [4/5], Step [100/391], Loss: 0.2171\n",
            "Epoch [4/5], Step [200/391], Loss: 0.3050\n",
            "Epoch [4/5], Step [300/391], Loss: 0.2730\n",
            "Epoch [5/5], Step [100/391], Loss: 0.2591\n",
            "Epoch [5/5], Step [200/391], Loss: 0.1774\n",
            "Epoch [5/5], Step [300/391], Loss: 0.2415\n"
          ]
        }
      ]
    },
    {
      "cell_type": "code",
      "source": [
        "# Test the model, after the training\n",
        "cnn.eval()\n",
        "with torch.no_grad():\n",
        "    correct = 0\n",
        "    total = 0\n",
        "    for images, labels in train_loader:\n",
        "        test_output, last_layer = cnn(images)\n",
        "        pred_y = torch.max(test_output, 1)[1].data.squeeze()\n",
        "        accuracy = (pred_y == labels).sum().item() / float(labels.size(0))\n",
        "        pass\n",
        "print('Test Accuracy of the model on the 10000 test images: %.2f' % accuracy)"
      ],
      "metadata": {
        "colab": {
          "base_uri": "https://localhost:8080/",
          "height": 0
        },
        "id": "0yRaXdXrgWPJ",
        "outputId": "ca3ea704-8002-4952-ba8b-b69edc50ac70"
      },
      "execution_count": 18,
      "outputs": [
        {
          "output_type": "stream",
          "name": "stdout",
          "text": [
            "Test Accuracy of the model on the 10000 test images: 0.91\n"
          ]
        }
      ]
    },
    {
      "cell_type": "code",
      "source": [
        "sample = next(iter(test_loader))\n",
        "imgs, lbls = sample\n",
        "\n",
        "actual_number = lbls[:10].numpy()\n",
        "actual_number\n",
        "\n",
        "test_output, last_layer = cnn(imgs[:10])\n",
        "pred_y = torch.max(test_output, 1)[1].data.numpy().squeeze()\n",
        "print(f'Prediction number: {pred_y}')\n",
        "print(f'Actual number: {actual_number}')"
      ],
      "metadata": {
        "colab": {
          "base_uri": "https://localhost:8080/",
          "height": 0
        },
        "id": "jruH3oGkhHNf",
        "outputId": "a3730e4c-7416-426a-9b43-8aa8e4d4a8ee"
      },
      "execution_count": 19,
      "outputs": [
        {
          "output_type": "stream",
          "name": "stdout",
          "text": [
            "Prediction number: [9 2 1 1 6 1 2 6 5 7]\n",
            "Actual number: [9 2 1 1 6 1 4 6 5 7]\n"
          ]
        }
      ]
    },
    {
      "cell_type": "markdown",
      "source": [
        "**2. Improve the architecture**. \\\\\n",
        "Experiment with different numbers of layers, size of layers, number of filters, size of filters. You are required to make those adjustment to get the highest accuracy. Watch out for overfitting -- we want the highest testing accuracy!\n",
        "Please provide a PDF file of the result, the best test accuracy and the architecture (different numbers of layers, size of layers, number of filters, size of filters)"
      ],
      "metadata": {
        "id": "CtWJS--thjlr"
      }
    },
    {
      "cell_type": "markdown",
      "source": [
        "**Model architecture:**"
      ],
      "metadata": {
        "id": "-yeE_V3Im8QQ"
      }
    },
    {
      "cell_type": "code",
      "source": [
        "import torch.nn as nn\n",
        "import torch.optim as optim\n",
        "\n",
        "class CNN(nn.Module):\n",
        "    def __init__(self):\n",
        "        super(CNN, self).__init__()\n",
        "\n",
        "        self.conv_layers = nn.Sequential(\n",
        "            nn.Conv2d(1, 32, 3, 1, 2),\n",
        "            nn.BatchNorm2d(32),\n",
        "            nn.ReLU(),\n",
        "            nn.MaxPool2d(2),\n",
        "\n",
        "            nn.Conv2d(32, 64, 3, 1, 1),\n",
        "            nn.BatchNorm2d(64),\n",
        "            nn.ReLU(),\n",
        "            nn.MaxPool2d(2),\n",
        "\n",
        "            nn.Conv2d(64, 128, 3, 1, 1),\n",
        "            nn.BatchNorm2d(128),\n",
        "            nn.ReLU(),\n",
        "            nn.Dropout(0.25),\n",
        "        )\n",
        "\n",
        "        self.fc = nn.Sequential(\n",
        "            nn.Linear(128 * 7 * 7, 256),\n",
        "            nn.ReLU(),\n",
        "            nn.Dropout(0.5),\n",
        "            nn.Linear(256, 10),\n",
        "        )\n",
        "\n",
        "    def forward(self, x):\n",
        "        x = self.conv_layers(x)\n",
        "        x = x.view(x.size(0), -1)\n",
        "        output = self.fc(x)\n",
        "        return output, x\n",
        "cnn = CNN()\n",
        "loss_func = nn.CrossEntropyLoss()\n",
        "optimizer = optim.Adam(cnn.parameters(), lr = 0.01)\n",
        "optimizer"
      ],
      "metadata": {
        "colab": {
          "base_uri": "https://localhost:8080/",
          "height": 0
        },
        "id": "cc4i4dQbhYNR",
        "outputId": "7d118194-94e2-481f-9261-f942f56304d4"
      },
      "execution_count": 44,
      "outputs": [
        {
          "output_type": "execute_result",
          "data": {
            "text/plain": [
              "Adam (\n",
              "Parameter Group 0\n",
              "    amsgrad: False\n",
              "    betas: (0.9, 0.999)\n",
              "    capturable: False\n",
              "    differentiable: False\n",
              "    eps: 1e-08\n",
              "    foreach: None\n",
              "    fused: None\n",
              "    lr: 0.01\n",
              "    maximize: False\n",
              "    weight_decay: 0\n",
              ")"
            ]
          },
          "metadata": {},
          "execution_count": 44
        }
      ]
    },
    {
      "cell_type": "code",
      "source": [
        "train(num_epochs=5, cnn=cnn, loaders=train_loader)"
      ],
      "metadata": {
        "colab": {
          "base_uri": "https://localhost:8080/"
        },
        "id": "QNei9hK8ni0I",
        "outputId": "d7dc7444-6787-4ca1-c708-9e0f110452ca"
      },
      "execution_count": 47,
      "outputs": [
        {
          "output_type": "stream",
          "name": "stdout",
          "text": [
            "Epoch [1/5], Step [100/391], Loss: 0.4135\n",
            "Epoch [1/5], Step [200/391], Loss: 0.3367\n",
            "Epoch [1/5], Step [300/391], Loss: 0.2628\n",
            "Epoch [2/5], Step [100/391], Loss: 0.3332\n",
            "Epoch [2/5], Step [200/391], Loss: 0.2136\n",
            "Epoch [2/5], Step [300/391], Loss: 0.3346\n",
            "Epoch [3/5], Step [100/391], Loss: 0.4504\n",
            "Epoch [3/5], Step [200/391], Loss: 0.2714\n",
            "Epoch [3/5], Step [300/391], Loss: 0.3398\n",
            "Epoch [4/5], Step [100/391], Loss: 0.1797\n",
            "Epoch [4/5], Step [200/391], Loss: 0.2973\n",
            "Epoch [4/5], Step [300/391], Loss: 0.3661\n",
            "Epoch [5/5], Step [100/391], Loss: 0.2827\n",
            "Epoch [5/5], Step [200/391], Loss: 0.2464\n",
            "Epoch [5/5], Step [300/391], Loss: 0.2943\n"
          ]
        }
      ]
    },
    {
      "cell_type": "code",
      "source": [
        "cnn.eval()\n",
        "with torch.no_grad():\n",
        "    correct = 0\n",
        "    total = 0\n",
        "    for images, labels in train_loader:\n",
        "        test_output, last_layer = cnn(images)\n",
        "        pred_y = torch.max(test_output, 1)[1].data.squeeze()\n",
        "        accuracy = (pred_y == labels).sum().item() / float(labels.size(0))\n",
        "        pass\n",
        "\n",
        "print('Test Accuracy of the model on the 10000 test images: %.2f' % accuracy)"
      ],
      "metadata": {
        "colab": {
          "base_uri": "https://localhost:8080/",
          "height": 0
        },
        "id": "PdazGnXJk4F9",
        "outputId": "aa410f2a-796b-40f9-872a-a066d4b47e0e"
      },
      "execution_count": 46,
      "outputs": [
        {
          "output_type": "stream",
          "name": "stdout",
          "text": [
            "Test Accuracy of the model on the 10000 test images: 0.93\n"
          ]
        }
      ]
    },
    {
      "cell_type": "code",
      "source": [],
      "metadata": {
        "id": "RPnFyznFnY4U"
      },
      "execution_count": null,
      "outputs": []
    }
  ]
}